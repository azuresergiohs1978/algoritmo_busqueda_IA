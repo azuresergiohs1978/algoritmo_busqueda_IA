{
 "cells": [
  {
   "cell_type": "code",
   "execution_count": 12,
   "id": "a0f8e44f-17d7-46cb-83bb-c9d947a6ac07",
   "metadata": {},
   "outputs": [
    {
     "data": {
      "text/plain": [
       "[(1, 1), (1, 2), (1, 3), (1, 4), (1, 5), (2, 5), (3, 5), (4, 5), (5, 5)]"
      ]
     },
     "execution_count": 12,
     "metadata": {},
     "output_type": "execute_result"
    }
   ],
   "source": [
    "# Representación del laberinto como una matriz\n",
    "laberinto = [\n",
    "    [1, 1, 1, 1, 1, 1, 1],\n",
    "    [1, 0, 0, 0, 0, 0, 1],\n",
    "    [1, 0, 1, 1, 1, 0, 1],\n",
    "    [1, 0, 0, 0, 1, 0, 1],\n",
    "    [1, 1, 1, 0, 1, 0, 1],\n",
    "    [1, 1, 1, 0, 0, 0, 1],\n",
    "    [1, 1, 1, 1, 1, 1, 1]\n",
    "]\n",
    "\n",
    "# BFS para resolver el laberinto\n",
    "def bfs(laberinto, inicio, fin):\n",
    "    # Direcciones para moverse en el laberinto: arriba, abajo, izquierda, derecha\n",
    "    movimientos = [(0, -1), (0, 1), (-1, 0), (1, 0)]\n",
    "\n",
    "    # Verificar si una posición es válida y se puede visitar\n",
    "    def es_valido(y, x):\n",
    "        if y < 0 or y >= len(laberinto) or x < 0 or x >= len(laberinto[0]):\n",
    "            return False\n",
    "        if laberinto[y][x] == 1:\n",
    "            return False\n",
    "        return True\n",
    "\n",
    "    # Cola para BFS\n",
    "    cola = [inicio]\n",
    "    # Diccionario para rastrear el camino\n",
    "    camino = {inicio: None}\n",
    "\n",
    "    while cola:\n",
    "        actual = cola.pop(0)\n",
    "        if actual == fin:\n",
    "            break\n",
    "\n",
    "        for movimiento in movimientos:\n",
    "            siguiente = (actual[0] + movimiento[0], actual[1] + movimiento[1])\n",
    "            if es_valido(*siguiente) and siguiente not in camino:\n",
    "                cola.append(siguiente)\n",
    "                camino[siguiente] = actual\n",
    "\n",
    "    # Reconstruir el camino\n",
    "    if fin not in camino:\n",
    "        return None  # No hay camino\n",
    "\n",
    "    ruta = []\n",
    "    actual = fin\n",
    "    while actual:\n",
    "        ruta.append(actual)\n",
    "        actual = camino[actual]\n",
    "    ruta.reverse()\n",
    "\n",
    "    return ruta\n",
    "\n",
    "# Puntos de inicio y fin en el laberinto\n",
    "inicio = (1, 1)  # Suponiendo que el inicio es (1, 1)\n",
    "fin = (5, 5)    # Suponiendo que el fin es (5, 5)\n",
    "\n",
    "# Ejecutar BFS\n",
    "ruta = bfs(laberinto, inicio, fin)\n",
    "ruta\n"
   ]
  },
  {
   "cell_type": "code",
   "execution_count": 13,
   "id": "b464b15c-dfac-4bb8-a68f-2c3136c51756",
   "metadata": {},
   "outputs": [
    {
     "data": {
      "image/png": "[encoded data removed]",
      "text/plain": [
       "<Figure size 640x480 with 1 Axes>"
      ]
     },
     "metadata": {},
     "output_type": "display_data"
    }
   ],
   "source": [
    "import matplotlib.pyplot as plt\n",
    "import numpy as np\n",
    "\n",
    "def visualizar_laberinto(laberinto, ruta):\n",
    "    # Convertir el laberinto en un array de numpy para facilitar la visualización\n",
    "    laberinto_np = np.array(laberinto)\n",
    "    \n",
    "    # Crear una matriz para la visualización\n",
    "    visualizacion = np.zeros_like(laberinto_np, dtype=float)\n",
    "    for y, x in ruta:\n",
    "        visualizacion[y, x] = 0.5  # Marcar el camino\n",
    "\n",
    "    # Marcar el inicio y el fin\n",
    "    inicio_y, inicio_x = ruta[0]\n",
    "    fin_y, fin_x = ruta[-1]\n",
    "    visualizacion[inicio_y, inicio_x] = 0.75\n",
    "    visualizacion[fin_y, fin_x] = 0.75\n",
    "\n",
    "    # Paredes\n",
    "    visualizacion[laberinto_np == 1] = 1\n",
    "\n",
    "    # Crear el gráfico\n",
    "    plt.imshow(visualizacion, cmap='gray')\n",
    "    plt.xticks([]), plt.yticks([])  # Ocultar los ejes\n",
    "    plt.title(\"Laberinto con Ruta Resuelta\")\n",
    "    plt.show()\n",
    "\n",
    "# Llamada a la función de visualización con el laberinto y la ruta\n",
    "visualizar_laberinto(laberinto, ruta)\n"
   ]
  },
  {
   "cell_type": "code",
   "execution_count": 14,
   "id": "a10533d3",
   "metadata": {},
   "outputs": [
    {
     "data": {
      "image/png": "[encoded data removed]",
      "text/plain": [
       "<Figure size 640x480 with 1 Axes>"
      ]
     },
     "metadata": {},
     "output_type": "display_data"
    }
   ],
   "source": [
    "import matplotlib.animation as animation\n",
    "\n",
    "def actualizar_cuadro(num, ruta, laberinto_np, visualizacion, plot):\n",
    "    # Limpiar la visualización actual\n",
    "    plot.cla()\n",
    "\n",
    "    # Actualizar la posición en la ruta\n",
    "    y, x = ruta[num]\n",
    "    visualizacion[y, x] = 0.5  # Marcar la posición actual en el camino\n",
    "\n",
    "    # Paredes\n",
    "    visualizacion[laberinto_np == 1] = 1\n",
    "\n",
    "    # Dibujar el estado actual del laberinto\n",
    "    plot.imshow(visualizacion, cmap='gray')\n",
    "    plot.set_title(f\"Paso {num + 1}/{len(ruta)}\")\n",
    "\n",
    "    # Ocultar los ejes\n",
    "    plot.set_xticks([])\n",
    "    plot.set_yticks([])\n",
    "\n",
    "# Crear una matriz para la visualización de la animación\n",
    "laberinto_np = np.array(laberinto)\n",
    "visualizacion_anim = np.zeros_like(laberinto_np, dtype=float)\n",
    "\n",
    "# Crear la figura y los ejes para la animación\n",
    "fig, ax = plt.subplots()\n",
    "\n",
    "# Crear la animación\n",
    "ani = animation.FuncAnimation(fig, actualizar_cuadro, frames=len(ruta), fargs=(ruta, laberinto_np, visualizacion_anim, ax), interval=300)\n",
    "\n",
    "# Guardar la animación como un archivo .gif\n",
    "ani.save('animacion.gif', writer='pillow')\n",
    "\n",
    "# La línea plt.show() solo es necesaria si también deseas ver la animación en línea\n",
    "# plt.show()\n",
    "\n",
    "# Mostrar la animación\n",
    "plt.show()\n",
    "\n",
    "\n",
    "\n"
   ]
  }
 ],
 "metadata": {
  "kernelspec": {
   "display_name": "Python 3 (ipykernel)",
   "language": "python",
   "name": "python3"
  },
  "language_info": {
   "codemirror_mode": {
    "name": "ipython",
    "version": 3
   },
   "file_extension": ".py",
   "mimetype": "text/x-python",
   "name": "python",
   "nbconvert_exporter": "python",
   "pygments_lexer": "ipython3",
   "version": "3.9.13"
  },
  "widgets": {
   "application/vnd.jupyter.widget-state+json": {
    "state": {},
    "version_major": 2,
    "version_minor": 0
   }
  }
 },
 "nbformat": 4,
 "nbformat_minor": 5
}
